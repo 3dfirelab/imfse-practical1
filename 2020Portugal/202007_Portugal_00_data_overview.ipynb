{
 "cells": [
  {
   "cell_type": "markdown",
   "metadata": {},
   "source": [
    "<img style=\"float: left;\" src=\"./images/logo.png\" width=\"400\"/><img style=\"float: right;\" src=\"./images/icons.png\" width=\"400\"/>"
   ]
  },
  {
   "cell_type": "markdown",
   "metadata": {},
   "source": [
    "original notebook available at [https://github.com/cvitolo/geff_notebooks](https://github.com/cvitolo/geff_notebooks)"
   ]
  },
  {
   "cell_type": "markdown",
   "metadata": {},
   "source": [
    "# Global ECMWF Fire Forecasting"
   ]
  },
  {
   "cell_type": "markdown",
   "metadata": {},
   "source": [
    "The European Centre for Medium-range Weather Forecasts ([ECMWF](https://www.ecmwf.int/)) produces daily fire danger forecasts and reanalysis products for the Copernicus Emergency Management Services ([CEMS](https://emergency.copernicus.eu/)). Activities are funded funded through a third-party agreement with the European Commission’s Joint Research Centre (JRC).\n",
    "\n",
    "The modelling system that generates the fire data products is called Global ECMWF Fire Forecast ([GEFF](\\href{https://git.ecmwf.int//projects/CEMSF/repos/geff/browse)) and it is based on the Canadian Fire Weather index as well as the US and Australian fire danger systems."
   ]
  },
  {
   "cell_type": "markdown",
   "metadata": {},
   "source": [
    "# Data overview"
   ]
  },
  {
   "cell_type": "markdown",
   "metadata": {},
   "source": [
    "Fire danger data products:\n",
    "\n",
    "- **GEFF-RT** provides the following *real-time* fire danger forecasts using weather forcings from the latest model cycle of the ECMWF’s Integrated Forecasting System (IFS):\n",
    "    - *rt_hr*: high-resolution deterministic (~9 Km, with 10 days lead time) and \n",
    "    - *rt_en*: lower-resolution probabilistic (~18Km, with 15 days lead time)\n",
    "- **GEFF-RE** provides historical records of global fire danger conditions (*reanalysis*) from 1980 to the present day. This dataset is updated as soon as new ERA-5 data becomes available (~2 months behind real-time) and it is made of four products:\n",
    "    - *e5_hr*: deterministic model outputs (~28 Km),\n",
    "    - *e5_en*: probabilistic model outputs (made of 10 ensemble members, ~56 Km),\n",
    "    - ensemble mean and\n",
    "    - ensemble spread.\n",
    "    \n",
    "All of GEFF data products are under the Copernicus license, which provides users with free, full and open access to environmental data. Please note, the terms `GEFF data`, `EFFIS data` and `GWIS data` are considered synonyms and will be used interchangibly hereafter."
   ]
  },
  {
   "cell_type": "markdown",
   "metadata": {},
   "source": [
    "## Data availability"
   ]
  },
  {
   "cell_type": "markdown",
   "metadata": {},
   "source": [
    "- **geff-rt** data can be requested through an online [form](https://effis.jrc.ec.europa.eu/applications/data-request-form/) and viewed using the following platforms: the European Forest Fire Information System ([EFFIS](https://effis.jrc.ec.europa.eu/static/effis_current_situation/public/index.html)) and the Global Wildfire Information System ([GWIS](https://gwis.jrc.ec.europa.eu/static/gwis_current_situation/public/index.html))\n",
    "- **geff-re** data are available through the Copernicus Climate Data Store ([CDS](https://cds.climate.copernicus.eu))."
   ]
  },
  {
   "cell_type": "markdown",
   "metadata": {},
   "source": [
    "## Event of interest: Portugal fires, 25-27 July 2020\n",
    "\n",
    "For the purpose of this tutorial, all relevant global data is in the directory `./eodata/geff/global/`. Data for tutorial 01 and 02 are in `./eodata/geff/202007_Portugal/`. \n",
    "\n",
    "#### Get the sample data \n",
    "The global data are available via Zenodo in the original notebook. Here we only upload data already croped on Portugal.\n",
    "There are availble [here](https://www.dropbox.com/scl/fi/rnhndotf5ft55gv25mky2/eodata.tar.gz?rlkey=3fpsbpehbktzo7sqd10rgcdl8&dl=0).\n"
   ]
  },
  {
   "cell_type": "markdown",
   "metadata": {},
   "source": [
    "### Background\n",
    "A devastating wildfire raged in the municipality of Oleiros and two neighboring municipalities over the period 25-27 July 2020.\n",
    "(Source: https://www.dw.com/en/portugal-wildfires-state-of-alert/a-54329910).\n",
    "\n",
    "### Active fires\n",
    "Most of the active fires detected by the MODIS instruments was in the centre and north of Portugal."
   ]
  },
  {
   "cell_type": "code",
   "execution_count": null,
   "metadata": {},
   "outputs": [],
   "source": [
    "# First of all, we need to import the necessary libraries\n",
    "import os\n",
    "import numpy as np\n",
    "import pandas as pd\n",
    "import matplotlib.pyplot as plt\n",
    "import xarray as xr\n",
    "import cartopy.crs as ccrs\n",
    "import matplotlib as mpl\n",
    "\n",
    "\n",
    "# Enable inline displaying of plots\n",
    "%matplotlib inline"
   ]
  },
  {
   "cell_type": "code",
   "execution_count": null,
   "metadata": {},
   "outputs": [],
   "source": [
    "# Where did the fire actually occur?\n",
    "bbox = [350.18, 353.81, 36.78, 42.15]\n",
    "lon_slice = slice(350.18, 353.81)\n",
    "lat_slice = slice(42.15, 36.78)\n",
    "\n",
    "# Let's download Fire Radiative Power from CAMS GFAS: https://apps.ecmwf.int/datasets/data/cams-gfas/\n",
    "\n",
    "# Open fire radiative power dataset\n",
    "ds = xr.open_dataset(\"./eodata/geff/202007_Portugal/frp/CAMS_portugal_daily_2020-07-01_2020-07-31.nc\")\n",
    "# Data have global coverage and are bundled in monthly datacubes, we will need to slice in time and space\n",
    "ds = ds.loc[dict(time = slice('2020-07-25', '2020-07-28'), longitude = lon_slice, latitude = lat_slice)]\n",
    "frpfire = ds.frpfire\n",
    "frpfire.values[frpfire.values <= 0] = np.nan"
   ]
  },
  {
   "cell_type": "code",
   "execution_count": null,
   "metadata": {},
   "outputs": [],
   "source": [
    "# This is the map projection we want to plot *onto*\n",
    "map_proj = ccrs.LambertConformal(central_longitude = 352, central_latitude = 39.5)\n",
    "\n",
    "p = frpfire.plot(transform=ccrs.PlateCarree(),                         # the data's projection\n",
    "                 col = 'time', col_wrap = 4,                           # multiplot settings\n",
    "                 subplot_kws = {'projection': map_proj})               # the plot's projection\n",
    "\n",
    "# We have to set the map's options on all axes\n",
    "for ax in p.axes.flat:\n",
    "    ax.coastlines()\n",
    "    ax.set_extent(bbox)"
   ]
  },
  {
   "cell_type": "markdown",
   "metadata": {},
   "source": [
    "# Explore the data"
   ]
  },
  {
   "cell_type": "markdown",
   "metadata": {},
   "source": [
    "In this section we show how to load GEFF datasets and explore the content. We will touch briefly on the different spatial resolutions of each datasets and related implications (e.g. different land-sea mask -> different spatial coverage)."
   ]
  },
  {
   "cell_type": "markdown",
   "metadata": {},
   "source": [
    "### geff-rt: fire danger forecasts"
   ]
  },
  {
   "cell_type": "markdown",
   "metadata": {},
   "source": [
    "The GEFF model uses weather forcings from the ECMWF’s Integrated Forecasting System (IFS) to generate fire danger forecasts. Based on the date of a particular event (e.g. 25-27 July 2020) the IFS model cycle used was 47r1."
   ]
  },
  {
   "cell_type": "markdown",
   "metadata": {},
   "source": [
    "#### HRES forecast"
   ]
  },
  {
   "cell_type": "markdown",
   "metadata": {},
   "source": [
    "This dataset provides real-time high-resolution deterministic (~9 Km) fire danger forecasts up to 10 days ahead. Let us explore the content of the sample file."
   ]
  },
  {
   "cell_type": "code",
   "execution_count": null,
   "metadata": {},
   "outputs": [],
   "source": [
    "# Open the dataset\n",
    "ds_rt_hr = xr.open_dataset(\"./eodata/geff/202007_Portugal/rt_hr/ECMWF_FWI_20200725_1200_hr.nc\")\n",
    "ds_rt_hr"
   ]
  },
  {
   "cell_type": "markdown",
   "metadata": {},
   "source": [
    "This dataset has three dimensions: latitude, longitude and time. In the lat/long plane data are distributed on a regular grid (2560 x 5120), while the time dimension is made of 10 levels (each corresponds to a daily forecast estimate). Each cell of this datacube contains only 8 variables: fwi, ffmc, dmc, dc, isi, bui, dsr, danger_risk. \n",
    "\n",
    "To plot and run basic operations, it is convenient to convert the dataset to a dataarray by extracting 1 variable, e.g. fwi. \n",
    "\n",
    "Remember: \n",
    "- DataArray = single multi-dimensional variable and its coordinates\n",
    "- Dataset = holds multiple variables that potentially share the same coordinates."
   ]
  },
  {
   "cell_type": "code",
   "execution_count": null,
   "metadata": {},
   "outputs": [],
   "source": [
    "# Convert ds to a dataarray extracting only the variable fwi\n",
    "da_rt_hr = ds_rt_hr.fwi\n",
    "da_rt_hr"
   ]
  },
  {
   "cell_type": "code",
   "execution_count": null,
   "metadata": {},
   "outputs": [],
   "source": [
    "# Plot the first day\n",
    "da_rt_hr[-1].plot() "
   ]
  },
  {
   "cell_type": "markdown",
   "metadata": {},
   "source": [
    "The data above was already cropped, the code below kept the function to crop it over portugal for example\n",
    "The code below also plot the map of FWI with the right aspect ratio"
   ]
  },
  {
   "cell_type": "code",
   "execution_count": null,
   "metadata": {},
   "outputs": [],
   "source": [
    "# Crop over area of interest, note lat = slice(top, bottom), lon = slice(left, right)!\n",
    "# Use this service to get coordinates: https://boundingbox.klokantech.com/\n",
    "fwi_rt_hr = da_rt_hr.loc[dict(lat = lat_slice, lon = lon_slice)]"
   ]
  },
  {
   "cell_type": "code",
   "execution_count": null,
   "metadata": {},
   "outputs": [],
   "source": [
    "map_proj = ccrs.LambertConformal(central_longitude = 352, central_latitude = 39.5)\n",
    "\n",
    "# Plot RT-HR\n",
    "p = fwi_rt_hr.plot(transform=ccrs.PlateCarree(),\n",
    "                   col = 'time', col_wrap = 5,\n",
    "                   subplot_kws = {'projection': map_proj})\n",
    "\n",
    "frpfire0 = frpfire.isel(time=0)\n",
    "idx = np.where(frpfire0>0)\n",
    "x = frpfire0.coords['longitude'][idx[1]]\n",
    "y = frpfire0.coords['latitude'][idx[0]]\n",
    "\n",
    "for ax in p.axes.flat:\n",
    "    ax.scatter(x, y, transform=ccrs.PlateCarree(), color='r', s=10, alpha=.3)\n",
    "    ax.coastlines()\n",
    "    ax.set_extent(bbox)\n",
    "    "
   ]
  },
  {
   "cell_type": "markdown",
   "metadata": {},
   "source": [
    "## geff-re: ERA5 based reanalysis of the Fire Weather Index"
   ]
  },
  {
   "cell_type": "markdown",
   "metadata": {},
   "source": [
    "This dataset provides historical records of global fire danger conditions from 1980 to the present day and it is made of two main types of products: (i) deterministic model outputs (HRES reanalysis), (ii) probabilistic model outputs (made of 10 ensemble members, ENS reanalysis). It is updated as soon as new ERA5 data becomes available (~2 months behind real-time). \n",
    "\n",
    "A single reanalysis layer is often used as proxy for observations (e.g. for validating the forecasts). Stacking together consecutive reanalysis estimates, allows to compute temporal trends and other long term statistics."
   ]
  },
  {
   "cell_type": "markdown",
   "metadata": {},
   "source": [
    "#### HRES reanalysis"
   ]
  },
  {
   "cell_type": "markdown",
   "metadata": {},
   "source": [
    "Let's repeat the same operations shown above, this time the dataset has only 1 temporal layer.\n",
    "The regular grid of the global data is smaller (640 x 1280) compared to the HRES forecasts."
   ]
  },
  {
   "cell_type": "code",
   "execution_count": null,
   "metadata": {},
   "outputs": [],
   "source": [
    "# Open the dataset\n",
    "ds_e5_hr = xr.open_dataset(\"./eodata/geff/202007_Portugal/e5_hr/ECMWF_FWI_20200725_1200_hr_fwi.nc\")\n",
    "ds_e5_hr = ds_e5_hr.fwi\n",
    "fwi_e5_hr = ds_e5_hr.loc[dict(lat = lat_slice, lon = lon_slice)]"
   ]
  },
  {
   "cell_type": "code",
   "execution_count": null,
   "metadata": {},
   "outputs": [],
   "source": [
    "map_proj = ccrs.LambertConformal(central_longitude = 352, central_latitude = 39.5)\n",
    "\n",
    "# Plot RT-HR\n",
    "fig, ax = plt.subplots(subplot_kw={'projection': ccrs.PlateCarree()})\n",
    "fwi_e5_hr.isel(time=0).plot(ax=ax, transform=ccrs.PlateCarree(),)\n",
    "\n",
    "frpfire0 = frpfire.isel(time=0)\n",
    "idx = np.where(frpfire0>0)\n",
    "x = frpfire0.coords['longitude'][idx[1]]\n",
    "y = frpfire0.coords['latitude'][idx[0]]\n",
    "\n",
    "ax.scatter(x, y, transform=ccrs.PlateCarree(), color='r', s=10, alpha=.3)\n",
    "ax.coastlines()\n",
    "ax.set_extent(bbox)\n"
   ]
  },
  {
   "cell_type": "code",
   "execution_count": null,
   "metadata": {},
   "outputs": [],
   "source": []
  }
 ],
 "metadata": {
  "kernelspec": {
   "display_name": "Python 3 (ipykernel)",
   "language": "python",
   "name": "python3"
  },
  "language_info": {
   "codemirror_mode": {
    "name": "ipython",
    "version": 3
   },
   "file_extension": ".py",
   "mimetype": "text/x-python",
   "name": "python",
   "nbconvert_exporter": "python",
   "pygments_lexer": "ipython3",
   "version": "3.9.16"
  },
  "toc": {
   "base_numbering": 1,
   "nav_menu": {},
   "number_sections": false,
   "sideBar": false,
   "skip_h1_title": false,
   "title_cell": "Table of Contents",
   "title_sidebar": "Contents",
   "toc_cell": false,
   "toc_position": {},
   "toc_section_display": false,
   "toc_window_display": false
  }
 },
 "nbformat": 4,
 "nbformat_minor": 4
}
