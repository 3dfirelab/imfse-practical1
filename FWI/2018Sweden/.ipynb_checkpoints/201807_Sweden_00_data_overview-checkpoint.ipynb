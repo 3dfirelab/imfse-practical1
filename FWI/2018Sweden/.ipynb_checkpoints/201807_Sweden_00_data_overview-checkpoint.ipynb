{
 "cells": [
  {
   "cell_type": "markdown",
   "metadata": {},
   "source": [
    "<img style=\"float: left;\" src=\"../images/logo.png\" width=\"400\"/><img style=\"float: right;\" src=\"../images/icons.png\" width=\"400\"/>"
   ]
  },
  {
   "cell_type": "markdown",
   "metadata": {},
   "source": [
    "## Data availability"
   ]
  },
  {
   "cell_type": "markdown",
   "metadata": {},
   "source": [
    "if you already run the case for portugal, the data are for this example are in `../edata/geff/201807_Sweden/`, otherwise see downloading instruction in `./FWI/2020Protugal/202007_Portugal_00_data_overview.ipynb`"
   ]
  },
  {
   "cell_type": "markdown",
   "metadata": {},
   "source": [
    "## Event of interest: Sweden fires, 15-20 July 2018"
   ]
  },
  {
   "cell_type": "markdown",
   "metadata": {},
   "source": [
    "### Background\n",
    "In the summer of 2018, a large number of wildfires (primarily forest fires) occurred throughout much of Sweden. According to the Swedish Civil Contingencies Agency, they are the most serious in the country in modern history. The summer was unusually warm and dry, significantly raising the risk of fire. Firefighters from multiple countries were involved in fighting the fires. Many people were evacuated from their homes, but there were no fatalities.\n",
    "\n",
    "Several of the fires were started by people using disposable barbecues, though bans on these were in place due to the weather conditions. Some were started by lightning strikes. Wildfires also occurred in the neighbouring countries Denmark, Finland and Norway, but no casualties due to wildfires were reported in Scandinavia.\n",
    "(Source: https://en.wikipedia.org/wiki/2018_Sweden_wildfires).\n",
    "\n",
    "### Active fires\n",
    "Most of the active fires detected by the MODIS instruments occurred in central-west and north Sewden on 15/20 July."
   ]
  },
  {
   "cell_type": "code",
   "execution_count": null,
   "metadata": {},
   "outputs": [],
   "source": [
    "# First of all, we need to import the necessary libraries\n",
    "import os\n",
    "import numpy as np\n",
    "import pandas as pd\n",
    "import matplotlib.pyplot as plt\n",
    "import matplotlib as mpl\n",
    "import xarray as xr\n",
    "import cartopy.crs as ccrs\n",
    "\n",
    "# Enable inline displaying of plots\n",
    "%matplotlib inline"
   ]
  },
  {
   "cell_type": "markdown",
   "metadata": {},
   "source": [
    "Let's download Fire Radiative Power from CAMS GFAS: see [https://ads.atmosphere.copernicus.eu/cdsapp#!/dataset/cams-global-fire-emissions-gfas?tab=overview](https://ads.atmosphere.copernicus.eu/cdsapp#!/dataset/cams-global-fire-emissions-gfas?tab=overview)\n",
    "\n",
    "this time the FRP data were not downloaded, you need to retreive them from the link above, place them in the right foder `./eodata/geff/global/frp/`, and rename it according to the file path used below.\n"
   ]
  },
  {
   "cell_type": "code",
   "execution_count": null,
   "metadata": {},
   "outputs": [],
   "source": [
    "# Where did the fire actually occur?\n",
    "bbox = [10.1, 24.8, 55, 69]\n",
    "lon_slice = slice(10.1, 24.8)\n",
    "lat_slice = slice(69, 55)\n",
    "\n",
    "\n",
    "# Open fire radiative power dataset\n",
    "ds = xr.open_dataset(\"../eodata/geff/global/frp/frp_20180701-31.nc\")\n",
    "# Data have global coverage and are bundled in monthly datacubes, we will need to slice in time and space\n",
    "ds = ds.loc[\n",
    "    dict(\n",
    "        time=slice(\"2018-07-15\", \"2018-07-20\"), longitude=lon_slice, latitude=lat_slice\n",
    "    )\n",
    "]\n",
    "frpfire = ds.frpfire\n",
    "frpfire.values[frpfire.values <= 0] = np.nan"
   ]
  },
  {
   "cell_type": "code",
   "execution_count": null,
   "metadata": {},
   "outputs": [],
   "source": [
    "# This is the map projection we want to plot *onto*\n",
    "map_proj = ccrs.LambertConformal(central_longitude=17.45, central_latitude=62)\n",
    "\n",
    "p = frpfire.plot(\n",
    "    transform=ccrs.PlateCarree(),  # the data's projection\n",
    "    col=\"time\",\n",
    "    col_wrap=4,  # multiplot settings\n",
    "    figsize=(12, 11),\n",
    "    cmap=mpl.cm.jet,\n",
    "    vmax=5,\n",
    "    subplot_kws={\"projection\": map_proj},\n",
    ")  # the plot's projection\n",
    "\n",
    "# We have to set the map's options on all axes\n",
    "for ax in p.axes.flat:\n",
    "    ax.coastlines()\n",
    "    ax.set_extent(bbox)"
   ]
  },
  {
   "cell_type": "markdown",
   "metadata": {},
   "source": [
    "## Explore the data"
   ]
  },
  {
   "cell_type": "markdown",
   "metadata": {},
   "source": [
    "#### HRES forecast"
   ]
  },
  {
   "cell_type": "markdown",
   "metadata": {},
   "source": [
    "This dataset provides real-time high-resolution deterministic (~9 Km) fire danger forecasts up to 10 days ahead. Let us explore the content of the sample file."
   ]
  },
  {
   "cell_type": "code",
   "execution_count": null,
   "metadata": {},
   "outputs": [],
   "source": [
    "# Open the dataset\n",
    "ds_rt_hr = xr.open_dataset(\"../eodata/geff/201807Sweden/rt_hr/ECMWF_FWI_20180715_1200_hr_fwi_rt.nc\")\n"
   ]
  },
  {
   "cell_type": "markdown",
   "metadata": {},
   "source": [
    "This dataset has three dimensions: latitude, longitude and time. In the lat/long plane data are distributed on a regular grid (2560 x 5120), while the time dimension is made of 10 levels (each corresponds to a daily forecast estimate). Each cell of this datacube contains only 8 variables: fwi, ffmc, dmc, dc, isi, bui, dsr, danger_risk. \n",
    "\n",
    "To plot and run basic operations, it is convenient to convert the dataset to a dataarray by extracting 1 variable, e.g. fwi. \n",
    "\n",
    "Remember: \n",
    "- DataArray = single multi-dimensional variable and its coordinates\n",
    "- Dataset = holds multiple variables that potentially share the same coordinates."
   ]
  },
  {
   "cell_type": "code",
   "execution_count": null,
   "metadata": {},
   "outputs": [],
   "source": [
    "# Convert ds to a dataarray extracting only the variable fwi\n",
    "da_rt_hr = ds_rt_hr.fwi"
   ]
  },
  {
   "cell_type": "code",
   "execution_count": null,
   "metadata": {},
   "outputs": [],
   "source": [
    "# Plot the first day\n",
    "da_rt_hr[0].plot()"
   ]
  },
  {
   "cell_type": "code",
   "execution_count": null,
   "metadata": {},
   "outputs": [],
   "source": [
    "# Crop over area of interest, note lat = slice(top, bottom), lon = slice(left, right)!\n",
    "# Use this service to get coordinates: https://boundingbox.klokantech.com/\n",
    "# data were already cropped, we kept the line of code here anyway\n",
    "\n",
    "fwi_rt_hr = da_rt_hr.loc[dict(lat=lat_slice, lon=lon_slice)]"
   ]
  },
  {
   "cell_type": "code",
   "execution_count": null,
   "metadata": {},
   "outputs": [],
   "source": [
    "# Plot RT-HR\n",
    "p = fwi_rt_hr.plot(\n",
    "    transform=ccrs.PlateCarree(),\n",
    "    col=\"time\",\n",
    "    col_wrap=5,\n",
    "    subplot_kws={\"projection\": map_proj},\n",
    ")\n",
    "for ax in p.axes.flat:\n",
    "    ax.coastlines()\n",
    "    ax.set_extent(bbox)"
   ]
  },
  {
   "cell_type": "markdown",
   "metadata": {},
   "source": [
    "### geff-re: ERA5 based reanalysis of the Fire Weather Index"
   ]
  },
  {
   "cell_type": "markdown",
   "metadata": {},
   "source": [
    "This dataset provides historical records of global fire danger conditions from 1980 to the present day and it is made of two main types of products: (i) deterministic model outputs (HRES reanalysis), (ii) probabilistic model outputs (made of 10 ensemble members, ENS reanalysis). It is updated as soon as new ERA5 data becomes available (~2 months behind real-time). \n",
    "\n",
    "Here we only consider the deterministic model output.\n",
    "\n",
    "A single reanalysis layer is often used as proxy for observations (e.g. for validating the forecasts). Stacking together consecutive reanalysis estimates, allows to compute temporal trends and other long term statistics."
   ]
  },
  {
   "cell_type": "markdown",
   "metadata": {},
   "source": [
    "#### HRES reanalysis"
   ]
  },
  {
   "cell_type": "markdown",
   "metadata": {},
   "source": [
    "Let's repeat the same operations shown above, this time the dataset has only 1 temporal layer.\n",
    "The regular grid is smaller (640 x 1280) compared to the HRES/ENS forecasts.\n",
    "\n",
    "The example below shows how to explore the single layer reanalysis. Examples of how to use a reanalysis datacube will be shown in follow-up tutorials."
   ]
  },
  {
   "cell_type": "code",
   "execution_count": null,
   "metadata": {},
   "outputs": [],
   "source": [
    "# Open the dataset\n",
    "ds_e5_hr = xr.open_dataset(\n",
    "    \"../eodata/geff/201807Sweden/e5_hr/ECMWF_FWI_20180715_1200_hr_fwi_e5.nc\"\n",
    ")"
   ]
  },
  {
   "cell_type": "code",
   "execution_count": null,
   "metadata": {},
   "outputs": [],
   "source": [
    "# Convert ds to a dataarray extracting only the variable fwi\n",
    "da_e5_hr = ds_e5_hr.fwi\n",
    "fwi_e5_hr = da_e5_hr.loc[dict(lat=lat_slice, lon=lon_slice)]\n"
   ]
  },
  {
   "cell_type": "code",
   "execution_count": null,
   "metadata": {},
   "outputs": [],
   "source": [
    "p = fwi_e5_hr.plot(\n",
    "    transform=ccrs.PlateCarree(),\n",
    "    col=\"time\",\n",
    "    col_wrap=1,\n",
    "    figsize=(5,7),\n",
    "    subplot_kws={\"projection\": map_proj},\n",
    ")\n",
    "\n",
    "\n",
    "for ax in p.axes.flat:\n",
    "    ax.scatter(x, y, transform=ccrs.PlateCarree(), color='r', s=10, alpha=.3)\n",
    "    ax.coastlines()\n",
    "    ax.set_extent(bbox)"
   ]
  },
  {
   "cell_type": "code",
   "execution_count": null,
   "metadata": {},
   "outputs": [],
   "source": []
  }
 ],
 "metadata": {
  "kernelspec": {
   "display_name": "Python 3 (ipykernel)",
   "language": "python",
   "name": "python3"
  },
  "language_info": {
   "codemirror_mode": {
    "name": "ipython",
    "version": 3
   },
   "file_extension": ".py",
   "mimetype": "text/x-python",
   "name": "python",
   "nbconvert_exporter": "python",
   "pygments_lexer": "ipython3",
   "version": "3.9.16"
  },
  "toc": {
   "base_numbering": 1,
   "nav_menu": {},
   "number_sections": false,
   "sideBar": false,
   "skip_h1_title": false,
   "title_cell": "Table of Contents",
   "title_sidebar": "Contents",
   "toc_cell": false,
   "toc_position": {},
   "toc_section_display": false,
   "toc_window_display": false
  }
 },
 "nbformat": 4,
 "nbformat_minor": 4
}
