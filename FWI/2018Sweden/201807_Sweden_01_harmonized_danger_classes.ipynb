{
 "cells": [
  {
   "cell_type": "markdown",
   "metadata": {},
   "source": [
    "<img style=\"float: left;\" src=\"../images/logo.png\" width=\"400\"/><img style=\"float: right;\" src=\"../images/icons.png\" width=\"400\"/>"
   ]
  },
  {
   "cell_type": "markdown",
   "metadata": {},
   "source": [
    "# Global ECMWF Fire Forecasting"
   ]
  },
  {
   "cell_type": "markdown",
   "metadata": {},
   "source": [
    "## Harmonized danger classes"
   ]
  },
  {
   "cell_type": "markdown",
   "metadata": {},
   "source": [
    "According to EFFIS [documentation and user guidelines](../doc/EFFIS_Fire_In_CDS.pdf):\n",
    "\n",
    "- In most European countries, the core of the wildfire season starts on 1st of March and ends on 31st of October.\n",
    "- The EFFIS network adopts the Canadian Forest Fire Weather Index (FWI) System as the method to assess the fire danger level in a harmonized way throughout Europe.\n",
    "  \n",
    "**European** Fire Danger Classes (FWI ranges, upper bound excluded):\n",
    "  - Very low = 0 - 5.2\n",
    "  - Low = 5.2 - 11.2 \n",
    "  - Moderate = 11.2 - 21.3 \n",
    "  - High = 21.3 - 38.0 \n",
    "  - Very high = 38.0 - 50.0 \n",
    "  - Extreme > 50.0\n",
    "\n",
    "In ECMWF experience, the above thresholds are particularly suited to assess fire danger in southern Europe, e.g. in the Mediterranean Region. Some countries, tend to calibrate these thresholds depending on local vegetation characteristics and fire regimes. This require local knowledge and/or experimentation.\n",
    "For instance, **Portugal** uses the following thresholds for local-level assessments of fire danger: \n",
    "  - Reduced risk = 8.4,\n",
    "  - Moderate risk = 17.2,\n",
    "  - High risk = 24.6,\n",
    "  - Maximum risk = 38.3\n",
    "\n",
    "Northern European countries might be more inclined to test **Canadian** threshold levels for the purpose of local-level assessments of fire danger:\n",
    "  - Very Low = 0 - 1,\n",
    "  - Low = 2 - 4,\n",
    "  - Moderate = 5 - 8,\n",
    "  - High = 9 - 16,\n",
    "  - VeryHigh = 17 - 30,\n",
    "  - Extreme > 30\n",
    "  \n",
    "As another example, in **Indonesia** threshold levels are (probably due to high level of humidity):\n",
    "  - Very Low = 0 - 3,\n",
    "  - Low = 3 - 5,\n",
    "  - Moderate = 5 - 10,\n",
    "  - High = 10 - 17,\n",
    "  - VeryHigh = 17 - 28,\n",
    "  - Extreme > 28"
   ]
  },
  {
   "cell_type": "code",
   "execution_count": null,
   "metadata": {},
   "outputs": [],
   "source": [
    "# First of all, we need to import the necessary libraries\n",
    "import os\n",
    "import numpy as np\n",
    "import pandas as pd\n",
    "import matplotlib.pyplot as plt\n",
    "import matplotlib as mpl\n",
    "import xarray as xr\n",
    "import cartopy.crs as ccrs\n",
    "\n",
    "# Enable inline displaying of plots\n",
    "%matplotlib inline"
   ]
  },
  {
   "cell_type": "markdown",
   "metadata": {},
   "source": [
    "## get frp data"
   ]
  },
  {
   "cell_type": "code",
   "execution_count": null,
   "metadata": {},
   "outputs": [],
   "source": [
    "bbox = [10.1, 24.8, 55, 69]\n",
    "lon_slice = slice(10.1, 24.8)\n",
    "lat_slice = slice(69, 55)\n",
    "\n",
    "\n",
    "# Open fire radiative power dataset\n",
    "ds = xr.open_dataset(\"../eodata/geff/global/frp/frp_20180701-31.nc\")\n",
    "# Data have global coverage and are bundled in monthly datacubes, we will need to slice in time and space\n",
    "ds = ds.loc[\n",
    "    dict(\n",
    "        time=slice(\"2018-07-11\", \"2018-07-20\"), longitude=lon_slice, latitude=lat_slice\n",
    "    )\n",
    "]\n",
    "\n",
    "frpfire = ds.frpfire\n",
    "frpfire.values[frpfire.values <= 0] = np.nan\n",
    "\n",
    "x = []\n",
    "y = []\n",
    "for id in range(len(frpfire)):\n",
    "    frpfire_ = frpfire.isel(time=id)\n",
    "    idx = np.where(frpfire0>0)\n",
    "    x.append(frpfire0.coords['longitude'][idx[1]]) # location of hot spot for the 15/07\n",
    "    y.append(frpfire0.coords['latitude'][idx[0]])\n"
   ]
  },
  {
   "cell_type": "markdown",
   "metadata": {},
   "source": [
    "## Classified forecasts"
   ]
  },
  {
   "cell_type": "markdown",
   "metadata": {},
   "source": [
    "Raw FWI forecast values are expressed as a continuous rating in the range [0, +Inf[ (very rarely above 100). In order to aid decision makers raw forecasts are routinely converted into danger classes, based on the thresholds mentioned above, before being displayed by the EFFIS/GWIS viewer.\n",
    "\n",
    "In this tutorial we are going to look at the predictive capability of the fire danger forecasts. Let us use the forecast issued on 14th July to see whether dangerous fire weather could have been predicted in the area where the Attica fires started burning on 23rd July (leadtime = 10 days)."
   ]
  },
  {
   "cell_type": "code",
   "execution_count": null,
   "metadata": {},
   "outputs": [],
   "source": [
    "# Open raw RT HRES forecast for Sweden, issued 10 days before the fires\n",
    "ds = xr.open_dataset(\"../eodata/geff/201807Sweden/rt_hr/ECMWF_FWI_20180711_1200_hr_fwi_rt.nc\")\n",
    "\n",
    "map_proj = ccrs.LambertConformal(central_longitude=17.45, central_latitude=62)\n"
   ]
  },
  {
   "cell_type": "code",
   "execution_count": null,
   "metadata": {},
   "outputs": [],
   "source": [
    "p = ds.fwi.plot(\n",
    "    transform=ccrs.PlateCarree(),\n",
    "    col=\"time\",\n",
    "    col_wrap=5,\n",
    "    figsize=(12,7),\n",
    "    subplot_kws={\"projection\": map_proj},\n",
    ")\n",
    "\n",
    "\n",
    "for iax, ax in enumerate(p.axes.flat):\n",
    "    ax.scatter(x[iax], y[iax], transform=ccrs.PlateCarree(), color='r', s=10, alpha=.3)\n",
    "    ax.coastlines()\n",
    "    ax.set_extent(bbox)"
   ]
  },
  {
   "cell_type": "code",
   "execution_count": null,
   "metadata": {},
   "outputs": [],
   "source": [
    "# Plot the re-classified forecast, Day 10\n",
    "\n",
    "p = ds.fwi.plot(\n",
    "    levels = [0.0, 5.2, 11.2, 21.3, 38.0, 50.0],\n",
    "    colors = [\"#008000\", \"#FFFF00\", \"#FFA500\", \"#FF0000\", \"#654321\", \"#000000\"],\n",
    "    label = ['Very low', 'Low', 'Moderate', 'High', 'Very high', 'Extreme'],\n",
    "    transform=ccrs.PlateCarree(),\n",
    "    col=\"time\",\n",
    "    col_wrap=5,\n",
    "    figsize=(12,7),\n",
    "    subplot_kws={\"projection\": map_proj},\n",
    ")\n",
    "\n",
    "for iax, ax in enumerate(p.axes.flat):\n",
    "    ax.scatter(x[iax], y[iax], transform=ccrs.PlateCarree(), color='w', s=10, alpha=.8)\n",
    "    ax.coastlines()\n",
    "    ax.set_extent(bbox)\n"
   ]
  },
  {
   "cell_type": "markdown",
   "metadata": {},
   "source": [
    "what do you think?\n",
    "Try now with the candian threshild class."
   ]
  },
  {
   "cell_type": "markdown",
   "metadata": {},
   "source": [
    "# Application"
   ]
  },
  {
   "cell_type": "markdown",
   "metadata": {},
   "source": [
    "Can you use the reanalysis data of Copernicus (see [here](https://cds.climate.copernicus.eu/cdsapp#!/dataset/cems-fire-historical?tab=overview)) to plot FWI for the day of the `el pont de vilomara` fire. Are the atmospheric conditions capable to explain  the strong fire activity?"
   ]
  },
  {
   "cell_type": "code",
   "execution_count": null,
   "metadata": {},
   "outputs": [],
   "source": []
  }
 ],
 "metadata": {
  "kernelspec": {
   "display_name": "Python 3 (ipykernel)",
   "language": "python",
   "name": "python3"
  },
  "language_info": {
   "codemirror_mode": {
    "name": "ipython",
    "version": 3
   },
   "file_extension": ".py",
   "mimetype": "text/x-python",
   "name": "python",
   "nbconvert_exporter": "python",
   "pygments_lexer": "ipython3",
   "version": "3.9.16"
  },
  "toc": {
   "base_numbering": 1,
   "nav_menu": {},
   "number_sections": false,
   "sideBar": false,
   "skip_h1_title": false,
   "title_cell": "Table of Contents",
   "title_sidebar": "Contents",
   "toc_cell": false,
   "toc_position": {},
   "toc_section_display": false,
   "toc_window_display": false
  }
 },
 "nbformat": 4,
 "nbformat_minor": 4
}
