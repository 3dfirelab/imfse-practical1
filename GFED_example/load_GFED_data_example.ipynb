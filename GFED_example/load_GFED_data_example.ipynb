{
 "cells": [
  {
   "cell_type": "markdown",
   "id": "2f1e285a-c911-4fa3-9577-8b87af9e13e5",
   "metadata": {},
   "source": [
    "<img style=\"float: left;\" src=\"./images/logo.png\" width=\"400\"/>"
   ]
  },
  {
   "cell_type": "markdown",
   "id": "865d8057-2af8-40fe-a9e4-0110c9eb87e6",
   "metadata": {},
   "source": [
    "this code is from the official GFED website"
   ]
  },
  {
   "cell_type": "code",
   "execution_count": 7,
   "id": "b395f147-2def-49fb-ba3c-efb13305cc7e",
   "metadata": {},
   "outputs": [],
   "source": [
    "months       = '01','02','03','04','05','06','07','08','09','10','11','12'\n",
    "sources      = 'SAVA','BORF','TEMF','DEFO','PEAT','AGRI'"
   ]
  },
  {
   "cell_type": "markdown",
   "id": "811747c1-6109-464b-87ea-1a8d5d57ce6c",
   "metadata": {},
   "source": [
    "in this example we will calculate annual CO emissions for the 14 GFED basisregions over 1997-2014. \n",
    "\n",
    "Please adjust the code to calculate emissions for your own specie, region, and time period of interest. \n",
    "\n",
    "Please first download the GFED4.1s files (available on the dropbox folder for simplicity) and the GFED4_Emission_Factors_Summary.csv to your computer and adjust the directory where you placed them below"
   ]
  },
  {
   "cell_type": "code",
   "execution_count": 10,
   "id": "df331aa6-1df1-4d36-b9bd-c11a432f282c",
   "metadata": {},
   "outputs": [],
   "source": [
    "directory    = './GFED4.1s/data/'"
   ]
  },
  {
   "cell_type": "markdown",
   "id": "ceaaf12f-cdab-4c9f-8415-037cafb4234b",
   "metadata": {},
   "source": [
    "## Read in emission factors"
   ]
  },
  {
   "cell_type": "code",
   "execution_count": 14,
   "id": "22b791ac-032b-4070-ad04-5a8d1475dde2",
   "metadata": {},
   "outputs": [
    {
     "name": "stdout",
     "output_type": "stream",
     "text": [
      "./GFED4.1s/data//GFED4_Emission_Factors_Summary.csv\n"
     ]
    }
   ],
   "source": [
    "species = [] # names of the different gas and aerosol species\n",
    "EFs     = np.zeros((41, 6)) # 41 species, 6 sources\n",
    "\n",
    "data_EF = pd.read_csv(directory+'/GFED4_Emission_Factors_Summary.csv', header=10)\n",
    "EF_CO = np.array(data_EF.iloc[3])[1:]\n",
    "\n",
    "\n",
    "# we are interested in CO for this example (4th row):\n",
    "\n",
    "start_year = 1997\n",
    "end_year   = 2014"
   ]
  },
  {
   "cell_type": "markdown",
   "id": "af9d61c6-b40a-4965-ad84-bbcc2b9f4f13",
   "metadata": {},
   "source": [
    "## Make table with summed DM emissions for each region, year, and source"
   ]
  },
  {
   "cell_type": "code",
   "execution_count": 15,
   "id": "3bfd1757-70e3-42ba-a8e1-ca87d86124b6",
   "metadata": {},
   "outputs": [
    {
     "name": "stdout",
     "output_type": "stream",
     "text": [
      "1997\n",
      "1998\n",
      "1999\n",
      "2000\n",
      "2001\n",
      "2002\n",
      "2003\n",
      "2004\n",
      "2005\n",
      "2006\n",
      "2007\n",
      "2008\n",
      "2009\n",
      "2010\n",
      "2011\n",
      "2012\n",
      "2013\n",
      "2014\n",
      "[[6.71255991e+00 2.41162946e+01 1.00481924e+01 5.52384573e+00\n",
      "  3.03693173e+00 2.32152092e+01 1.45367498e+01 2.70896856e+01\n",
      "  1.86817257e+01 1.33120174e+01 1.02852082e+01 8.25607148e+00\n",
      "  1.07677123e+01 1.93295823e+01 1.31535623e+01 1.36819172e+01\n",
      "  2.71704451e+01 3.11602986e+01]\n",
      " [1.82754076e+00 2.19665292e+00 3.45271535e+00 3.42334954e+00\n",
      "  1.89419318e+00 2.92623976e+00 2.77244789e+00 2.16927161e+00\n",
      "  2.45677272e+00 3.24629060e+00 4.73834953e+00 3.53797177e+00\n",
      "  2.42795661e+00 2.85934147e+00 3.25030233e+00 4.14140232e+00\n",
      "  2.70653410e+00 3.03882031e+00]\n",
      " [3.53285801e+00 3.00030651e+01 4.04475727e+00 9.25639218e+00\n",
      "  2.61308432e+00 3.50916123e+00 1.08710726e+01 2.59440922e+00\n",
      "  8.54783393e+00 4.66596291e+00 5.27897718e+00 4.54854511e+00\n",
      "  5.32021173e+00 3.22944476e+00 7.36468347e+00 2.70172197e+00\n",
      "  6.52527138e+00 2.41144759e+00]\n",
      " [5.34896412e+00 7.50056439e+00 3.99634135e+00 5.21914089e+00\n",
      "  5.67936458e+00 3.19205802e+00 9.33044495e+00 4.64193221e+00\n",
      "  3.47029418e+00 2.92618894e+00 6.26774795e+00 3.58806633e+00\n",
      "  3.92959887e+00 4.64062414e+00 1.83189317e+00 2.60285578e+00\n",
      "  2.96338230e+00 4.73732958e+00]\n",
      " [5.14406614e+01 6.95843904e+01 6.30987202e+01 2.91315110e+01\n",
      "  2.64807141e+01 4.86266919e+01 3.97885523e+01 5.98515836e+01\n",
      "  7.46266361e+01 3.44411491e+01 8.92139174e+01 2.99214765e+01\n",
      "  1.61576291e+01 9.24541125e+01 2.37011299e+01 4.58926024e+01\n",
      "  2.18176757e+01 3.17403383e+01]\n",
      " [1.38881334e+00 1.52230092e+00 1.12271598e+00 3.52010165e+00\n",
      "  2.10991958e+00 8.97792829e-01 1.64958130e+00 1.32443082e+00\n",
      "  1.45750576e+00 1.34765227e+00 1.66191519e+00 1.54688360e+00\n",
      "  9.41452594e-01 9.21170064e-01 1.34856325e+00 2.03878274e+00\n",
      "  9.16038375e-01 8.81814111e-01]\n",
      " [1.64691051e-01 4.65797363e-01 2.92002378e-01 2.91254962e-01\n",
      "  2.68511746e-01 2.47294721e-01 3.07833771e-01 3.23858593e-01\n",
      "  2.99484573e-01 3.13288773e-01 4.10498184e-01 2.47083989e-01\n",
      "  4.40123978e-01 4.61557740e-01 3.93406515e-01 3.53471964e-01\n",
      "  3.41329287e-01 3.26162558e-01]\n",
      " [6.77146179e+01 8.98850379e+01 7.21895666e+01 7.76140751e+01\n",
      "  6.50526573e+01 6.84209231e+01 6.13343570e+01 5.71152416e+01\n",
      "  7.08765135e+01 5.63476464e+01 6.16995614e+01 6.15968333e+01\n",
      "  5.38306259e+01 4.94084706e+01 5.66320837e+01 5.07877728e+01\n",
      "  5.34708325e+01 5.04192793e+01]\n",
      " [8.21694304e+01 9.62989472e+01 8.18625853e+01 7.73504035e+01\n",
      "  1.04793631e+02 8.73012546e+01 9.12769835e+01 9.15290232e+01\n",
      "  9.62145688e+01 9.04431268e+01 8.46540764e+01 9.15935001e+01\n",
      "  9.12404156e+01 9.84533211e+01 9.40455216e+01 8.57871631e+01\n",
      "  9.34445188e+01 8.54743699e+01]\n",
      " [2.37872232e+01 7.38922132e+01 2.57332733e+01 2.87127282e+01\n",
      "  2.60558068e+01 4.22915055e+01 7.35581025e+01 1.07620014e+01\n",
      "  1.67768025e+01 3.29546058e+01 1.48116240e+01 4.59169094e+01\n",
      "  1.68992774e+01 2.19193054e+01 2.65236299e+01 5.68322051e+01\n",
      "  2.21231784e+01 3.32035590e+01]\n",
      " [1.64034283e+01 1.48596643e+01 9.69892924e+00 9.11967162e+00\n",
      "  1.10298063e+01 1.39534226e+01 1.07139870e+01 1.20252506e+01\n",
      "  1.13973863e+01 1.29893479e+01 1.34118067e+01 1.56596012e+01\n",
      "  1.35743318e+01 9.90689486e+00 7.98832398e+00 9.13897197e+00\n",
      "  6.76214549e+00 1.20337911e+01]\n",
      " [1.28168722e+01 2.78267350e+01 2.22308827e+01 1.61085496e+01\n",
      "  9.83411235e+00 1.15239474e+01 1.33497741e+01 2.66722582e+01\n",
      "  1.98426151e+01 1.52616516e+01 2.63553020e+01 1.12853055e+01\n",
      "  1.91057262e+01 2.37460557e+01 1.30697021e+01 1.85100234e+01\n",
      "  1.85423086e+01 2.25480610e+01]\n",
      " [2.99849685e+02 2.18521812e+01 1.83398884e+01 6.32449677e+00\n",
      "  9.05518927e+00 6.55890133e+01 1.67842529e+01 4.15515294e+01\n",
      "  2.21501878e+01 9.90028883e+01 5.70350908e+00 4.58126314e+00\n",
      "  5.49950775e+01 3.18943436e+00 2.11762697e+01 2.10350870e+01\n",
      "  1.54512296e+01 5.77222470e+01]\n",
      " [1.45002222e+01 1.32357383e+01 2.55774655e+01 1.66378492e+01\n",
      "  2.43954138e+01 2.22246485e+01 1.81572618e+01 1.67225207e+01\n",
      "  9.50887487e+00 1.86456147e+01 1.42750996e+01 9.23108897e+00\n",
      "  1.52476215e+01 5.72328972e+00 2.17373386e+01 2.21858847e+01\n",
      "  1.09050640e+01 1.51484808e+01]\n",
      " [5.87774972e+02 4.73471634e+02 3.41767656e+02 2.88300061e+02\n",
      "  2.92508354e+02 3.94031025e+02 3.64527079e+02 3.54478198e+02\n",
      "  3.56421697e+02 3.86004773e+02 3.38859765e+02 2.91947063e+02\n",
      "  3.04972415e+02 3.36308654e+02 2.92334138e+02 3.35760684e+02\n",
      "  2.83222318e+02 3.50914993e+02]]\n"
     ]
    }
   ],
   "source": [
    "\n",
    "CO_table = np.zeros((15, end_year - start_year + 1)) # region, year\n",
    "\n",
    "for year in range(start_year, end_year+1):\n",
    "    string = directory+'/GFED4.1s_'+str(year)+'.hdf5'\n",
    "    f = h5py.File(string, 'r')\n",
    "    \n",
    "    \n",
    "    if year == start_year: # these are time invariable    \n",
    "        basis_regions = f['/ancill/basis_regions'][:]\n",
    "        grid_area     = f['/ancill/grid_cell_area'][:]\n",
    "    \n",
    "    \n",
    "    CO_emissions = np.zeros((720, 1440))\n",
    "    for month in range(12):\n",
    "        # read in DM emissions\n",
    "        string = '/emissions/'+months[month]+'/DM'\n",
    "        DM_emissions = f[string][:]\n",
    "        for source in range(6):\n",
    "            # read in the fractional contribution of each source\n",
    "            string = '/emissions/'+months[month]+'/partitioning/DM_'+sources[source]\n",
    "            contribution = f[string][:]\n",
    "            # calculate CO emissions as the product of DM emissions (kg DM per \n",
    "            # m2 per month), the fraction the specific source contributes to \n",
    "            # this (unitless), and the emission factor (g CO per kg DM burned)\n",
    "            CO_emissions += DM_emissions * contribution * float(EF_CO[source])\n",
    "    \n",
    "    \n",
    "    # fill table with total values for the globe (row 15) or basisregion (1-14)\n",
    "    for region in range(15):\n",
    "        if region == 14:\n",
    "            mask = np.ones((720, 1440))\n",
    "        else:\n",
    "            mask = basis_regions == (region + 1)            \n",
    "    \n",
    "        CO_table[region, year-start_year] = np.sum(grid_area * mask * CO_emissions)\n",
    "        \n",
    "    print(year)\n",
    "        \n",
    "# convert to Tg CO \n",
    "CO_table = CO_table / 1E12\n",
    "print(CO_table)\n",
    "\n",
    "# please compare this to http://www.falw.vu/~gwerf/GFED/GFED4/tables/GFED4.1s_CO.txt"
   ]
  },
  {
   "cell_type": "code",
   "execution_count": null,
   "id": "a9b159d9-2ae1-4378-8247-347eb33c1302",
   "metadata": {},
   "outputs": [],
   "source": []
  }
 ],
 "metadata": {
  "kernelspec": {
   "display_name": "Python 3 (ipykernel)",
   "language": "python",
   "name": "python3"
  },
  "language_info": {
   "codemirror_mode": {
    "name": "ipython",
    "version": 3
   },
   "file_extension": ".py",
   "mimetype": "text/x-python",
   "name": "python",
   "nbconvert_exporter": "python",
   "pygments_lexer": "ipython3",
   "version": "3.9.16"
  }
 },
 "nbformat": 4,
 "nbformat_minor": 5
}
