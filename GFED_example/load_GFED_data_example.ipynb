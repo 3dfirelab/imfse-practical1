{
 "cells": [
  {
   "cell_type": "markdown",
   "id": "2f1e285a-c911-4fa3-9577-8b87af9e13e5",
   "metadata": {},
   "source": [
    "<img style=\"float: left;\" src=\"./images/logo.png\" width=\"400\"/>"
   ]
  },
  {
   "cell_type": "markdown",
   "id": "865d8057-2af8-40fe-a9e4-0110c9eb87e6",
   "metadata": {},
   "source": [
    "this code is from the official GFED website"
   ]
  },
  {
   "cell_type": "code",
   "execution_count": null,
   "id": "b395f147-2def-49fb-ba3c-efb13305cc7e",
   "metadata": {},
   "outputs": [],
   "source": [
    "months       = '01','02','03','04','05','06','07','08','09','10','11','12'\n",
    "sources      = 'SAVA','BORF','TEMF','DEFO','PEAT','AGRI'"
   ]
  },
  {
   "cell_type": "markdown",
   "id": "811747c1-6109-464b-87ea-1a8d5d57ce6c",
   "metadata": {},
   "source": [
    "in this example we will calculate annual CO emissions for the 14 GFED basisregions over 1997-2014. \n",
    "\n",
    "Please adjust the code to calculate emissions for your own specie, region, and time period of interest. \n",
    "\n",
    "Please first download the GFED4.1s files (available on the dropbox folder for simplicity) and the GFED4_Emission_Factors_Summary.csv to your computer and adjust the directory where you placed them below"
   ]
  },
  {
   "cell_type": "markdown",
   "id": "fb882cf5-3a7e-4919-a6fd-61d67914f131",
   "metadata": {},
   "source": [
    "In GFED4.1s biomass burning dry matter (DM) emissions are provided in kg DM/m2/month in the yearly file `GFED4.1s_xxxx.hdf5`. This corresponds to the mass of burnt fuel"
   ]
  },
  {
   "cell_type": "markdown",
   "id": "ceaaf12f-cdab-4c9f-8415-037cafb4234b",
   "metadata": {},
   "source": [
    "## Read in emission factors"
   ]
  },
  {
   "cell_type": "code",
   "execution_count": null,
   "id": "0bf3782e-7fe2-401e-8740-2de557ff442f",
   "metadata": {},
   "outputs": [],
   "source": [
    "import numpy as np\n",
    "import pandas as pd\n",
    "import h5py\n",
    "import matplotlib.pyplot as plt"
   ]
  },
  {
   "cell_type": "code",
   "execution_count": null,
   "id": "df331aa6-1df1-4d36-b9bd-c11a432f282c",
   "metadata": {},
   "outputs": [],
   "source": [
    "directory    = './GFED4.1s/data/'"
   ]
  },
  {
   "cell_type": "code",
   "execution_count": null,
   "id": "22b791ac-032b-4070-ad04-5a8d1475dde2",
   "metadata": {},
   "outputs": [],
   "source": [
    "species = [] # names of the different gas and aerosol species\n",
    "EFs     = np.zeros((41, 6)) # 41 species, 6 sources\n",
    "\n",
    "data_EF = pd.read_csv(directory+'/GFED4_Emission_Factors_Summary.csv', header=10)\n",
    "EF_CO = np.array(data_EF.iloc[3])[1:]\n",
    "\n",
    "\n",
    "# we are interested in CO for this example (4th row):\n",
    "\n",
    "start_year = 1997\n",
    "end_year   = 2014"
   ]
  },
  {
   "cell_type": "markdown",
   "id": "af9d61c6-b40a-4965-ad84-bbcc2b9f4f13",
   "metadata": {},
   "source": [
    "## Make table with summed DM emissions for each region, year, and source"
   ]
  },
  {
   "cell_type": "code",
   "execution_count": null,
   "id": "1f15fc91-94ff-4644-b416-96e14b0d8e4e",
   "metadata": {},
   "outputs": [],
   "source": [
    "\n",
    "CO_table = np.zeros((15, end_year - start_year + 1)) # region, year\n",
    "\n",
    "for year in range(start_year, end_year+1):\n",
    "    string = directory+'/GFED4.1s_'+str(year)+'.hdf5'\n",
    "    f = h5py.File(string, 'r')\n",
    "    \n",
    "    \n",
    "    if year == start_year: # these are time invariable    \n",
    "        basis_regions = f['/ancill/basis_regions'][:]\n",
    "        grid_area     = f['/ancill/grid_cell_area'][:]\n",
    "    \n",
    "    \n",
    "    CO_emissions = np.zeros((720, 1440))\n",
    "    for month in range(12):\n",
    "        # read in DM emissions\n",
    "        string = '/emissions/'+months[month]+'/DM'\n",
    "        DM_emissions = f[string][:]\n",
    "        for source in range(6):\n",
    "            # read in the fractional contribution of each source\n",
    "            string = '/emissions/'+months[month]+'/partitioning/DM_'+sources[source]\n",
    "            contribution = f[string][:]\n",
    "            # calculate CO emissions as the product of DM emissions (kg DM per \n",
    "            # m2 per month), the fraction the specific source contributes to \n",
    "            # this (unitless), and the emission factor (g CO per kg DM burned)\n",
    "            CO_emissions += DM_emissions * contribution * float(EF_CO[source])\n",
    "    \n",
    "    \n",
    "    # fill table with total values for the globe (row 15) or basisregion (1-14)\n",
    "    for region in range(15):\n",
    "        if region == 14:\n",
    "            mask = np.ones((720, 1440))\n",
    "        else:\n",
    "            mask = basis_regions == (region + 1)            \n",
    "    \n",
    "        CO_table[region, year-start_year] = np.sum(grid_area * GFED_example/load_GFED_data_example.ipynbmask * CO_emissions)\n",
    "        \n",
    "    print(year)\n",
    "        \n",
    "# convert to Tg CO \n",
    "CO_table = CO_table / 1E12\n",
    "print(CO_table)\n",
    "\n",
    "# please compare this to http://www.falw.vu/~gwerf/GFED/GFED4/tables/GFED4.1s_CO.txt"
   ]
  },
  {
   "cell_type": "markdown",
   "id": "131f980b-d57a-40df-9f6c-6dd666fe0967",
   "metadata": {},
   "source": [
    "## To go further"
   ]
  },
  {
   "cell_type": "markdown",
   "id": "4334bfb2-77e4-4b3d-82cc-0f990bdad10d",
   "metadata": {},
   "source": [
    "Using the result from the last exercise of the introductionary python lecture (see [here](https://github.com/3dfirelab/python-intro-course/blob/master/06-pandasExcercise.ipynb) can you calculate total carbone emission for you country? "
   ]
  },
  {
   "cell_type": "code",
   "execution_count": null,
   "id": "05aebaf8-243a-4dd2-a2b7-a6598c2462df",
   "metadata": {},
   "outputs": [],
   "source": []
  }
 ],
 "metadata": {
  "kernelspec": {
   "display_name": "Python 3 (ipykernel)",
   "language": "python",
   "name": "python3"
  },
  "language_info": {
   "codemirror_mode": {
    "name": "ipython",
    "version": 3
   },
   "file_extension": ".py",
   "mimetype": "text/x-python",
   "name": "python",
   "nbconvert_exporter": "python",
   "pygments_lexer": "ipython3",
   "version": "3.9.16"
  }
 },
 "nbformat": 4,
 "nbformat_minor": 5
}
